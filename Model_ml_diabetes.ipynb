{
  "nbformat": 4,
  "nbformat_minor": 0,
  "metadata": {
    "colab": {
      "private_outputs": true,
      "provenance": []
    },
    "kernelspec": {
      "name": "python3",
      "display_name": "Python 3"
    },
    "language_info": {
      "name": "python"
    }
  },
  "cells": [
    {
      "cell_type": "code",
      "execution_count": null,
      "metadata": {
        "id": "QurdT92WGBep"
      },
      "outputs": [],
      "source": [
        "# Importando as bibliotecas necessárias\n",
        "import numpy as np\n",
        "import pandas as pd\n",
        "from sklearn.ensemble import RandomForestClassifier\n",
        "from sklearn.model_selection import train_test_split\n",
        "from sklearn.metrics import accuracy_score"
      ]
    },
    {
      "cell_type": "code",
      "source": [
        "# Carregando os dados\n",
        "diabetes_data = pd.read_csv('/content/diabetes.csv')"
      ],
      "metadata": {
        "id": "DzkWmY4WGTr_"
      },
      "execution_count": null,
      "outputs": []
    },
    {
      "cell_type": "code",
      "source": [
        "# Dividindo os dados em recursos (X) e rótulos (y)\n",
        "X = diabetes_data.drop('Outcome', axis=1)\n",
        "y = diabetes_data['Outcome']"
      ],
      "metadata": {
        "id": "_nScgoc9GTvU"
      },
      "execution_count": null,
      "outputs": []
    },
    {
      "cell_type": "code",
      "source": [
        "# Dividindo os dados em conjuntos de treinamento e teste\n",
        "X_train, X_test, y_train, y_test = train_test_split(X,\n",
        "                                                    y,\n",
        "                                                    test_size=0.2,\n",
        "                                                    random_state=42)"
      ],
      "metadata": {
        "id": "sb1yO8bFGTxm"
      },
      "execution_count": null,
      "outputs": []
    },
    {
      "cell_type": "code",
      "source": [
        "# Inicializando o classificador Random Forest\n",
        "random_forest = RandomForestClassifier(n_estimators=100)\n",
        "\n",
        "# Treinando o modelo\n",
        "random_forest.fit(X_train, y_train)"
      ],
      "metadata": {
        "id": "Y_kNKJkpGmIf"
      },
      "execution_count": null,
      "outputs": []
    },
    {
      "cell_type": "code",
      "source": [
        "# Fazendo previsões nos dados de teste\n",
        "y_pred = random_forest.predict(X_test)\n",
        "y_pred"
      ],
      "metadata": {
        "id": "uoET-DAFGoeK"
      },
      "execution_count": null,
      "outputs": []
    },
    {
      "cell_type": "code",
      "source": [
        "from sklearn.metrics import confusion_matrix\n",
        "\n",
        "cm = confusion_matrix(y_pred, y_test)\n",
        "cm"
      ],
      "metadata": {
        "id": "vBuEsKvMGpGT"
      },
      "execution_count": null,
      "outputs": []
    },
    {
      "cell_type": "code",
      "source": [
        "# Avaliando a precisão do modelo\n",
        "accuracy = accuracy_score(y_test, y_pred)\n",
        "print(\"Acurácia do modelo: {:.2f}%\".format(accuracy * 100))"
      ],
      "metadata": {
        "id": "y-wU7ZNGGpKl"
      },
      "execution_count": null,
      "outputs": []
    },
    {
      "cell_type": "code",
      "source": [
        "# Fazendo previsões nos dados de teste\n",
        "y_pred = random_forest.predict(X_test)\n",
        "\n",
        "# Exibindo as previsões\n",
        "for i in range(len(y_pred)):\n",
        "    print(\"Previsão: {}, Valor Real: {}\".format(y_pred[i], y_test.iloc[i]))"
      ],
      "metadata": {
        "id": "bFMb0RtEHAFl"
      },
      "execution_count": null,
      "outputs": []
    },
    {
      "cell_type": "code",
      "source": [
        "import pickle\n",
        "\n",
        "# Salvando o modelo em um arquivo\n",
        "with open('modelo_treinado.pkl', 'wb') as file:\n",
        "    pickle.dump(random_forest, file)"
      ],
      "metadata": {
        "id": "etfhW-rVHAI9"
      },
      "execution_count": null,
      "outputs": []
    },
    {
      "cell_type": "code",
      "source": [],
      "metadata": {
        "id": "yaSxj08uHJuP"
      },
      "execution_count": null,
      "outputs": []
    }
  ]
}